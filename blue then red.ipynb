{
 "cells": [
  {
   "cell_type": "code",
   "execution_count": 1,
   "metadata": {
    "collapsed": false
   },
   "outputs": [
    {
     "data": {
      "text/plain": [
       "0.25408175604144445"
      ]
     },
     "execution_count": 1,
     "metadata": {},
     "output_type": "execute_result"
    }
   ],
   "source": [
    "import random\n",
    "\n",
    "random.random()"
   ]
  },
  {
   "cell_type": "markdown",
   "metadata": {},
   "source": [
    "## red blue ball probability\n",
    "r,r b,b r,b b,r\n",
    "with replacement probability doesnt change, without replacement they do change"
   ]
  },
  {
   "cell_type": "code",
   "execution_count": 17,
   "metadata": {
    "collapsed": false
   },
   "outputs": [
    {
     "ename": "SyntaxError",
     "evalue": "invalid syntax (<ipython-input-17-3323a451e82d>, line 10)",
     "output_type": "error",
     "traceback": [
      "\u001b[1;36m  File \u001b[1;32m\"<ipython-input-17-3323a451e82d>\"\u001b[1;36m, line \u001b[1;32m10\u001b[0m\n\u001b[1;33m    if random.random() < (blue_ball - 1) / (total - 1)\u001b[0m\n\u001b[1;37m                                                      ^\u001b[0m\n\u001b[1;31mSyntaxError\u001b[0m\u001b[1;31m:\u001b[0m invalid syntax\n"
     ]
    }
   ],
   "source": [
    "import random\n",
    "\n",
    "blue_ball = 4\n",
    "total = 12\n",
    "pop = 100000\n",
    "pulled = 0\n",
    "\n",
    "for i in range (pop):\n",
    "    if random.random() < blue_ball / total:\n",
    "        if random.random() < (blue_ball - 1) / (total - 1)\n",
    "        pulled += 1\n",
    "print(pulled)        \n",
    "\n"
   ]
  },
  {
   "cell_type": "code",
   "execution_count": 19,
   "metadata": {
    "collapsed": false
   },
   "outputs": [
    {
     "name": "stdout",
     "output_type": "stream",
     "text": [
      "0.09198\n"
     ]
    }
   ],
   "source": [
    "import random\n",
    "\n",
    "blue_ball = 4\n",
    "total = 12\n",
    "pop = 100000\n",
    "pulled = 0\n",
    "\n",
    "for i in range (pop):\n",
    "    if random.random() < blue_ball / total:\n",
    "        if random.random() < (blue_ball - 1) / (total - 1):\n",
    "            pulled += 1\n",
    "print(pulled/100000)        \n",
    "\n"
   ]
  },
  {
   "cell_type": "markdown",
   "metadata": {},
   "source": [
    "## how many times will you get red-blue or blue-red"
   ]
  },
  {
   "cell_type": "code",
   "execution_count": 20,
   "metadata": {
    "collapsed": false
   },
   "outputs": [
    {
     "ename": "SyntaxError",
     "evalue": "invalid syntax (<ipython-input-20-3a38a334fcb7>, line 17)",
     "output_type": "error",
     "traceback": [
      "\u001b[1;36m  File \u001b[1;32m\"<ipython-input-20-3a38a334fcb7>\"\u001b[1;36m, line \u001b[1;32m17\u001b[0m\n\u001b[1;33m    pulled_red + = 1\u001b[0m\n\u001b[1;37m                 ^\u001b[0m\n\u001b[1;31mSyntaxError\u001b[0m\u001b[1;31m:\u001b[0m invalid syntax\n"
     ]
    }
   ],
   "source": [
    "import random\n",
    "\n",
    "red_ball = 8\n",
    "blue_ball = 4\n",
    "total = 12\n",
    "pop = 100000\n",
    "pulled_blue = 0\n",
    "pulled_red = 0\n",
    "\n",
    "for i in range (pop):\n",
    "    if random.random() < blue_ball / total:\n",
    "        if random.random() < (blue_ball - 1) / (total - 1):\n",
    "            pulled_blue += 1\n",
    "        else: \n",
    "            pulled_red += 1\n",
    "    else:\n",
    "        pulled_red + = 1\n",
    "print(pulled_blue)\n",
    "print(pulled_red)\n",
    "\n"
   ]
  },
  {
   "cell_type": "code",
   "execution_count": 27,
   "metadata": {
    "collapsed": false
   },
   "outputs": [
    {
     "name": "stdout",
     "output_type": "stream",
     "text": [
      "Pulled Blue then Red:  0.24156\n",
      "Pulled Red then Blue:  0.16501\n"
     ]
    }
   ],
   "source": [
    "import random\n",
    "\n",
    "red_ball = 8\n",
    "blue_ball = 4\n",
    "total = 12\n",
    "pop = 100000\n",
    "pulled_blue = 0\n",
    "pulled_red = 0\n",
    "bb = 0 \n",
    "rr = 0 \n",
    "br = 0 \n",
    "rb = 0\n",
    "\n",
    "for i in range (pop):\n",
    "    if random.random() < blue_ball / total:\n",
    "        if random.random() < (blue_ball - 1) / (total - 1):\n",
    "            pulled_blue += 1\n",
    "            bb += 1\n",
    "        else: \n",
    "            pulled_red += 1\n",
    "            br += 1\n",
    "    elif random.random() < red_ball / total:\n",
    "        if random.random() < (red_ball - 1) / (total - 1):\n",
    "            pulled_red += 1\n",
    "            rr += 1\n",
    "        else: \n",
    "            pulled_blue += 1\n",
    "            rb += 1\n",
    "\n",
    "print(\"Pulled Blue then Red: \", br/pop)\n",
    "\n",
    "print(\"Pulled Red then Blue: \", rb/pop)\n",
    "        \n",
    "\n"
   ]
  },
  {
   "cell_type": "code",
   "execution_count": null,
   "metadata": {
    "collapsed": true
   },
   "outputs": [],
   "source": []
  },
  {
   "cell_type": "code",
   "execution_count": null,
   "metadata": {
    "collapsed": true
   },
   "outputs": [],
   "source": []
  }
 ],
 "metadata": {
  "kernelspec": {
   "display_name": "Python 3",
   "language": "python",
   "name": "python3"
  },
  "language_info": {
   "codemirror_mode": {
    "name": "ipython",
    "version": 3
   },
   "file_extension": ".py",
   "mimetype": "text/x-python",
   "name": "python",
   "nbconvert_exporter": "python",
   "pygments_lexer": "ipython3",
   "version": "3.5.1"
  }
 },
 "nbformat": 4,
 "nbformat_minor": 0
}
